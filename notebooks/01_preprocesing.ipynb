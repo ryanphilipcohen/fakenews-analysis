{
 "cells": [
  {
   "cell_type": "markdown",
   "id": "088ba658",
   "metadata": {},
   "source": [
    "# 01_Preprocessing\n",
    "\n",
    "Goal: Prepare data to be used in model training.\n",
    "1. Combining datasets into one homogenous human-readable dataset, ensuring no empty cells, with the text **Article** and boolean **Truth** columns.\n",
    "2. Remove any punctuation and error-prone text.\n",
    "3. Tokenize the data for NLP.\n",
    "\n",
    "Output:\n",
    "1. Human-readable dataset\n",
    "2. Reduced dataset\n",
    "3. Tokenized dataset"
   ]
  }
 ],
 "metadata": {
  "language_info": {
   "name": "python"
  }
 },
 "nbformat": 4,
 "nbformat_minor": 5
}
